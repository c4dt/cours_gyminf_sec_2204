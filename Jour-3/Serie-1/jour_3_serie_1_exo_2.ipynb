{
 "cells": [
  {
   "cell_type": "markdown",
   "id": "3a8b258a",
   "metadata": {
    "button": false,
    "id": "xc0a_EOTck4x",
    "new_sheet": false,
    "run_control": {
     "read_only": false
    }
   },
   "source": [
    "# Série 1 - Exercice 2\n",
    "\n",
    "Ici on va faire une petite introduction à Diffie-Hellman. La première partie va donne une introduction dans les opérations cryptographiques nécessaires. La deuxième partie vérifie que l'opération Diffie-Hellman marche. Et la troisième partie combine le Diffie-Hellman avec la signature nécessaire pour pouvoir utiliser une clé à longue durée.\n",
    "\n",
    "## 1. Connaissance\n",
    "\n",
    "Création de clés: libnacl vous donne la possibilité de créer une paire de clés avec la méthode suivante:\n",
    "\n",
    "priv, pub = libnacl.crypto_keypair()\n",
    "\n",
    "Multiplication: avec les courbes elliptiques, une multiplications peut se faire entre deux clés privées (vu que ce sont des nombres) ou entre une clé privée et une clé publique. Si vous connaissez le RSA, ceci correspond à peu près à l'exponentiation modulaire. Avec libnacl, la méthode à utiliser est la suivante:\n",
    "\n",
    "resultat = crypto_scalarmult(priv, pub)\n",
    "\n",
    "Dans l'exemple suivant, on va vérifier que les deux parties du Diffie-Hellman donnent bien le même résultat."
   ]
  },
  {
   "cell_type": "code",
   "execution_count": null,
   "id": "aec582c8",
   "metadata": {
    "button": false,
    "colab": {
     "base_uri": "https://localhost:8080/",
     "height": 368
    },
    "executionInfo": {
     "elapsed": 2479,
     "status": "error",
     "timestamp": 1620330981935,
     "user": {
      "displayName": "linus gasser",
      "photoUrl": "https://lh3.googleusercontent.com/a-/AOh14GiT9d_hiiZE9FHyx2dphb24xe4f0737HSVlpv54=s64",
      "userId": "10501199511424753986"
     },
     "user_tz": -120
    },
    "id": "4qOznnPDckVh",
    "jupyter": {
     "outputs_hidden": false
    },
    "new_sheet": false,
    "outputId": "5d83ac62-f84e-405a-8990-2414a9d0e570",
    "run_control": {
     "read_only": false
    }
   },
   "outputs": [],
   "source": [
    "# Série 1 - Exercice 2 - Partie 1\n",
    "\n",
    "import libnacl, ctypes\n",
    "\n",
    "def crypto_scalarmult(scal, point):\n",
    "    '''\n",
    "    Cette méthode retourne le résultat de la multiplication d'un scalaire avec\n",
    "    un point.\n",
    "    '''\n",
    "    if len(scal) != libnacl.crypto_box_SECRETKEYBYTES:\n",
    "        raise ValueError('Invalid secret key')\n",
    "    if len(point) != libnacl.crypto_box_PUBLICKEYBYTES:\n",
    "        raise ValueError('Invalid public key')\n",
    "    result = ctypes.create_string_buffer(libnacl.crypto_box_PUBLICKEYBYTES)\n",
    "    if libnacl.nacl.crypto_scalarmult(result, scal, point):\n",
    "        raise libnacl.CryptError('Failed to compute scalar multiplication')\n",
    "    return result.raw\n",
    "\n",
    "pub, priv = libnacl.crypto_box_keypair()\n",
    "\n",
    "res = crypto_scalarmult(priv, pub)\n",
    "\n",
    "print(\"Clé privée:\", priv.hex())\n",
    "print(\"Clé publique:\", pub.hex())\n",
    "print(\"Multiplication:\", res.hex())\n"
   ]
  },
  {
   "cell_type": "markdown",
   "id": "ca4b4e57-07d8-42e0-8be3-d71b1bde7fa7",
   "metadata": {},
   "source": [
    "## 2. Compréhension\n",
    "\n",
    "Supposons qu'Alice et Bob veulent créer une clé symétrique en utilisant Diffie-Hellman. Ils vont donc faire la chose suivante:\n",
    "\n",
    "1. Alice et Bob vont créer leurs paires de clés:\n",
    "```\n",
    "alice_pub, alice_priv pour Alice\n",
    "bob_pub, bob_priv pour Bob\n",
    "```\n",
    "\n",
    "\n",
    "2. Alice envoie sa clé publique (alice_pub) à Bob\n",
    "3. Bob envoie sa clé publique (bob_pub) à Alice\n",
    "3. Bob fait le calcul suivant:\n",
    "```\n",
    "bob_symetrique = bob_priv * alice_pub\n",
    "```\n",
    "\n",
    "\n",
    "4. Alice fait de même:\n",
    "```\n",
    "alice_symetrique = alice_priv * bob_pub\n",
    "```\n",
    "\n",
    "\n",
    "A la fin les deux doivent avoir le même résultat!\n",
    "\n",
    "Utilisez les éléments que vous avez vu dans la 1ère partie pour implémenter cet algorithme! Vous n'avez pas besoin de copier la méthode `crypto_scalarmult` - elle est disponible une fois que vous avez exécuté le block correspondant.\n",
    "\n",
    "Pour finaliser l'exercice, vous pouvez encore faire le hachage sha256 du résultat de la multiplication. Ceci assure que d'éventuels structures de la clé publique ne sont plus visibles."
   ]
  },
  {
   "cell_type": "code",
   "execution_count": null,
   "id": "45919aa3",
   "metadata": {
    "button": false,
    "id": "9HYfk1lTc7Hp",
    "new_sheet": false,
    "run_control": {
     "read_only": false
    }
   },
   "outputs": [],
   "source": [
    "# Série 1 - Exercice 1 - Partie 2\n"
   ]
  },
  {
   "cell_type": "markdown",
   "id": "db72641b-ad63-465e-bd97-16ce4c9af5e5",
   "metadata": {},
   "source": [
    "## 3. Application\n",
    "\n",
    "Maintenant on suppose qu'Alice et Bob ont une paire de clés long terme, c-à-dire qu'ils utilisent pour plusieurs échanges Diffie-Hellman. Ces clés sont connues d'avance, donc Bob connaît la clé publique longue durée d'Alice, et vice-versa.\n",
    "\n",
    "Ajouter la signature à l'exercice sur le Diffie-Hellman, en vérifiant de chaque côté. On aura donc:\n",
    "\n",
    "### Préparation:\n",
    "\n",
    "Alice et Bob choisissent leur paires de clés longue durée et échangent la partie publique: alice_pub_long et bob_pub_long\n",
    "\n",
    "### Algorithme:\n",
    "\n",
    "1. Alice et Bob choisissent une paire de clés pour la session\n",
    "2. Alice envoie sa clé publique, signée par sa clé longue durée\n",
    "3. Bob vérifie la signature avec la clé publique de longue durée d'Alice\n",
    "4. Bob envoie sa clé publique, signée par sa clé longue durée\n",
    "5. Alice vérifie la signature avec la clé publique de longue durée de Bob\n",
    "6. Alice et Bob font le calcule Diffie-Hellman, puis font un sha256 dessus"
   ]
  },
  {
   "cell_type": "code",
   "execution_count": null,
   "id": "377d336e",
   "metadata": {
    "button": false,
    "id": "-Fk-3jvpdEcq",
    "new_sheet": false,
    "run_control": {
     "read_only": false
    },
    "tags": []
   },
   "outputs": [],
   "source": [
    "# Série 1 - Exercice 1 - Partie 3"
   ]
  }
 ],
 "metadata": {
  "colab": {
   "collapsed_sections": [],
   "name": "jour_2_série_3_exo_2.ipynb",
   "provenance": []
  },
  "kernelspec": {
   "display_name": "Python 3",
   "language": "python",
   "name": "python3"
  },
  "language_info": {
   "codemirror_mode": {
    "name": "ipython",
    "version": 3
   },
   "file_extension": ".py",
   "mimetype": "text/x-python",
   "name": "python",
   "nbconvert_exporter": "python",
   "pygments_lexer": "ipython3",
   "version": "3.9.6"
  }
 },
 "nbformat": 4,
 "nbformat_minor": 5
}
