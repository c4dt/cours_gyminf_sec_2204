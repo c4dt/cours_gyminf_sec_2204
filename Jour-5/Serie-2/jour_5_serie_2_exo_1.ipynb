{
 "cells": [
  {
   "cell_type": "markdown",
   "id": "299b96bb-81bb-45cf-a97b-9e4f07da2c14",
   "metadata": {},
   "source": [
    "# Serie 2\n",
    "\n",
    "Dans cette série on va voir comment faire de la déanonymisation en utilisant deux\n",
    "sources:\n",
    "- imdb avec des évaluations publiques faites par les utilisateurs\n",
    "- netflix avec des évaluations anonymisées et publié par Netflix, avec plus d'évaluations\n",
    "\n",
    "Les deux sources sont faites dans deux étapes:\n",
    "- `_small.csv` avec peu d'entrées\n",
    "- `_big.csv` avec beaucoup d'entrées\n",
    "\n",
    "Tous les noms sont aléatoire et les évaluations ne correspondent en aucun cas à des gens réels ;)"
   ]
  },
  {
   "cell_type": "markdown",
   "id": "998e2f49-7a12-4955-9fdc-3093afca1e94",
   "metadata": {},
   "source": [
    "# Exercice 1\n",
    "\n",
    "Dans un premier temps on va simplement charger les données et les afficher.\n",
    "\n",
    "## 1. Connaissance\n",
    "\n",
    "Vous trouvez deux jeux de données:\n",
    "- netflix_small.csv - contient quatre colonnes: nom (anonymisé), film (anonymisé), date, évaluation\n",
    "- imdb_small.csv - contient les mêmes quatre colonnes, mais non-anonymisées\n",
    "\n",
    "En double-cliquant dessus, vous pouvez voir leur contenu.\n",
    "\n",
    "**Questions**\n",
    "\n",
    "1. laquelle est plus longue?\n",
    "2. voyez vous l'anonymisation?\n",
    "\n",
    "Il y a une méthode `load_csv` qui retourne une liste de `dict`, et qui est déjà utilisée pour charger les deux bases de données.\n",
    "\n",
    "La méthode `print_list` affiche une liste, une entrée par ligne. C'est un peu plus convivial que `print(imdb)`.\n",
    "\n",
    "Finalement il y a une commande pour `sort` la liste, ici on le fait selon le `rating`.\n",
    "\n",
    "**Questions**\n",
    "\n",
    "3. Avec le triage selon le `rating` vous pouvez déjà approcher les listes - mais selon quelle colonne faudrait-il trier pour bien comparer les deux bases de données?\n",
    "4. Ici les bases de données ont les mêmes dates et les mêmes `rating` - comment est-ce que c'est dans une vraie base de données? Est-ce que vous avez une idée comment on pourrait procéder?\n",
    "\n",
    "On verra dans l'exercice prochain comment faire si les deux listes contiennent des dates répétées."
   ]
  },
  {
   "cell_type": "code",
   "execution_count": null,
   "id": "7d234a82-d229-498b-acb5-0590a84cc226",
   "metadata": {},
   "outputs": [],
   "source": [
    "import create_db, csv\n",
    "\n",
    "def load_csv(name: str) -> list:\n",
    "    ret = []\n",
    "    \n",
    "    with open(name, newline='') as csvfile:\n",
    "        reader = csv.DictReader(csvfile)\n",
    "        for row in reader:\n",
    "            ret.append(row)\n",
    "            \n",
    "    return ret\n",
    "\n",
    "def print_list(l: list):\n",
    "    for e in l:\n",
    "        print(e)\n",
    "\n",
    "imdb = load_csv(\"imdb_small.csv\")\n",
    "netflix = load_csv(\"netflix_small.csv\")\n",
    "print(\"Raw list:\")\n",
    "print_list(imdb)\n",
    "\n",
    "imdb_sorted = sorted(imdb, key = lambda line: line['rating'])\n",
    "print(\"\\nSorted list:\")\n",
    "print_list(imdb_sorted)"
   ]
  },
  {
   "cell_type": "markdown",
   "id": "214c2c3c-aa18-44c4-be62-344ed701bceb",
   "metadata": {},
   "source": [
    "## 2. Compréhension\n",
    "\n",
    "Maintenant que vous avez pu trier les listes, essayez de faire la correspondance pour au moins un utilisateur et tous les films de cet utilisateur.\n",
    "\n",
    "**Questions**\n",
    "\n",
    "1. Quelle est la correspondance entre l'utilisateur et le nom anonymisé dans la base de données de Netflix?\n",
    "2. Quels sont ses films évalués sur IMDB? Et quels films a-t-il·elle aussi regardé·e sur Netflix?"
   ]
  },
  {
   "cell_type": "code",
   "execution_count": null,
   "id": "a601a611-fdc6-4a14-98fb-d6b806c7ee9d",
   "metadata": {},
   "outputs": [],
   "source": [
    "imdb_sorted = sorted(imdb, key = lambda line: line['date'])\n",
    "print(\"\\nSorted imdb:\")\n",
    "print_list(imdb_sorted)\n",
    "\n",
    "netflix_sorted = sorted(netflix, key = lambda line: line['date'])\n",
    "print(\"\\nSorted netflix:\")\n",
    "print_list(netflix_sorted)"
   ]
  },
  {
   "cell_type": "markdown",
   "id": "4c1557e6-dfa5-40cf-aae3-418963154768",
   "metadata": {},
   "source": [
    "## 3. Application\n",
    "\n",
    "La prochaine étape est bien plus proche de la réalité. Les bases de données sont maintenant fait avec\n",
    "1024 utilisateurs, et chaque utilisateur a évalué 10 films sur IMDB et 12 sur Netflix.\n",
    "Le but est donc deb0184e37 trouver les 2 films qu'on ne connaît pas.\n",
    "Avec un total de 1024 évaluations de 10 films sur une année, on ne peut plus se fier à la date, parce qu'on trouvera trop de doublons.\n",
    "\n",
    "### Faisable - fréquence des évaluations\n",
    "\n",
    "Mais vous pouvez encore faire une attaque en utilisant la fréquence des films:\n",
    "on suppose que la fréquence des évaluations est la même dans IMDB et Netflix. Si on arrive à trier les films selon leur nombre d'évaluations, on peut faire un matching de la liste.\n",
    "\n",
    "**Questions**\n",
    "\n",
    "- Donnez les correspondances des 20 films entre le nom complet dans IMDB et le hash de Netflix\n",
    "- Quelles sont les différences avec la réalité par rapport aux évaluations?\n",
    "- Comment faudrait-il procéder pour quand même trouver les films en réalité?\n",
    "\n",
    "### Très avancé - trouver les noms\n",
    "\n",
    "Pour trouver les noms des personnes, on peut faire deux choses:\n",
    "\n",
    "1. Prendre un nom d'utilisateur·trice dans IMDB, et faire une correspondance avec les films qu'il·elle a évalué avec les films évalués par un nom anonymisé dans Netflix\n",
    "\n",
    "**Questions**\n",
    "\n",
    "- Quelles sont les simplifications faites?\n",
    "\n",
    "2. Faire une correspondance en ne prenant pas seulement les noms des films, mais aussi les dates et les évaluations. Cette étape requiert des statistiques assez avancées - même les étudiants en Master à l'EPFL avaient de la peine ;) Si vous arrivez, faites-le savoir!\n",
    "\n",
    "### Hint\n",
    "\n",
    "Dans le fichier `create_db.py` j'ai mis des méthodes pour m'assurer que l'évaluation par des fréquences est possible. Parce que c'est en fait pas tout à fait simple de créer un exercice qui marche ;)\n",
    "\n",
    "Donc vous pouvez vous laissez inspirer par les méthodes `sort_list` pour la fréquence et `uniq_choice` pour trouver les noms."
   ]
  },
  {
   "cell_type": "code",
   "execution_count": null,
   "id": "d521f8cc-d725-4a6b-8180-9d1049d98da6",
   "metadata": {},
   "outputs": [],
   "source": []
  }
 ],
 "metadata": {
  "kernelspec": {
   "display_name": "Python 3",
   "language": "python",
   "name": "python3"
  },
  "language_info": {
   "codemirror_mode": {
    "name": "ipython",
    "version": 3
   },
   "file_extension": ".py",
   "mimetype": "text/x-python",
   "name": "python",
   "nbconvert_exporter": "python",
   "pygments_lexer": "ipython3",
   "version": "3.9.6"
  }
 },
 "nbformat": 4,
 "nbformat_minor": 5
}
