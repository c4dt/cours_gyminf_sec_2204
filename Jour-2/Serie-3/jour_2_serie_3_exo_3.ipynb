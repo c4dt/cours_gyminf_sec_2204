{
 "cells": [
  {
   "cell_type": "markdown",
   "id": "3a8b258a",
   "metadata": {
    "button": false,
    "id": "xc0a_EOTck4x",
    "new_sheet": false,
    "run_control": {
     "read_only": false
    }
   },
   "source": [
    "# Série 3 - Exercice 3\n",
    "\n",
    "Une application très célèbre dans les cercles de nerds informatiques est le [ECB Penguin](https://blog.filippo.io/the-ecb-penguin/) qui tient son nom du mode opératoire ECB (Electronic CodeBook), qui est très insécure sous certaines conditions.\n",
    "\n",
    "## 1. Connaissance\n",
    "\n",
    "La première partie montre comment charger une image et le convertir en un objet `bytes`. Cette conversion est importante, parce que normalement les images sont entregistrées d'une manière compressée avec des informations supplémentaires nécessaire à la décompression.\n",
    "\n",
    "Une fois que l'image est dans une version décompressée avec 3 bytes par pixel (rouge, vert, bleu), il faut s'assurer que la taille totale soit un multiple de 16. Ceci est dû au chiffrement ECB, qui fonctionne en mode block de 16 bytes.\n",
    "\n",
    "Maintenant on peut appliquer le chiffrement DES/ECB. DES indique ici le chiffrement de chaque block, tandis que ECB indique le mode d'opération.\n",
    "\n",
    "Vous pouvez lancer ce premier block plusieurs fois et voir comment l'image est chaque fois chiffrée différemment. C'est normal, vu que ça dépend de la clé utilisée. Et celle-ci est initialisée d'une manière aléatoire."
   ]
  },
  {
   "cell_type": "code",
   "execution_count": null,
   "id": "aec582c8",
   "metadata": {
    "button": false,
    "colab": {
     "base_uri": "https://localhost:8080/",
     "height": 368
    },
    "executionInfo": {
     "elapsed": 2479,
     "status": "error",
     "timestamp": 1620330981935,
     "user": {
      "displayName": "linus gasser",
      "photoUrl": "https://lh3.googleusercontent.com/a-/AOh14GiT9d_hiiZE9FHyx2dphb24xe4f0737HSVlpv54=s64",
      "userId": "10501199511424753986"
     },
     "user_tz": -120
    },
    "id": "4qOznnPDckVh",
    "jupyter": {
     "outputs_hidden": false
    },
    "new_sheet": false,
    "outputId": "5d83ac62-f84e-405a-8990-2414a9d0e570",
    "run_control": {
     "read_only": false
    }
   },
   "outputs": [],
   "source": [
    "# Série 3 - Exercice 1 - Partie 1\n",
    "from matplotlib.pyplot import figure, imshow\n",
    "from Crypto.Cipher import AES, DES, ChaCha20\n",
    "from Crypto.Random import get_random_bytes\n",
    "import PIL.Image\n",
    "import secrets\n",
    "\n",
    "def image_DES(img: bytes) -> PIL.Image:\n",
    "    key = get_random_bytes(8)\n",
    "    cipher = DES.new(key, DES.MODE_ECB)\n",
    "    encrypted = cipher.encrypt(img)\n",
    "    return PIL.Image.frombytes(\"RGB\", (256, 312), encrypted)\n",
    "\n",
    "image_tux = PIL.Image.open(\"./tux.png\").crop((0, 0, 256, 312))\n",
    "\n",
    "imshow(image_tux)\n",
    "figure()\n",
    "imshow(image_DES(image_tux.tobytes()))"
   ]
  },
  {
   "cell_type": "markdown",
   "id": "666441df",
   "metadata": {},
   "source": [
    "## 2. Compréhension\n",
    "\n",
    "Vu que le DES est trop vieux et ne devrait plus être utilisé, on va essayer avec AES. Copier les lignes depuis la 1ère partire pour faire apparaître un pinguin DES/ECB suivi d'un pinguin AES/ECB.\n",
    "\n",
    "Maintenant comparez les deux.\n",
    "- Quelle est la plus grande différence? Et comment pouvez-vous l'expliquer?\n",
    "\n",
    "Après ajoutez le troisième pinguin, cette fois-ci en utilisant le chiffrement ChaCha20. Cette fois-ci on ne reconnaît plus du tout le pinguin. C'est triste, mais plus sécure!"
   ]
  },
  {
   "cell_type": "code",
   "execution_count": null,
   "id": "45919aa3",
   "metadata": {
    "button": false,
    "id": "9HYfk1lTc7Hp",
    "new_sheet": false,
    "run_control": {
     "read_only": false
    }
   },
   "outputs": [],
   "source": [
    "# Série 3 - Exercice 1 - Partie 2\n",
    "\n",
    "def image_AES(img: bytes) -> PIL.Image:\n",
    "    key = get_random_bytes(16)\n",
    "    cipher = AES.new(key, AES.MODE_ECB)\n",
    "    encrypted = cipher.encrypt(img)\n",
    "    return PIL.Image.frombytes(\"RGB\", (256, 312), encrypted)\n",
    "\n",
    "def image_ChaCha20(img: bytes) -> PIL.Image:\n",
    "    key = get_random_bytes(32)\n",
    "    cipher = ChaCha20.new(key=key)\n",
    "    encrypted = cipher.encrypt(img)\n",
    "    return PIL.Image.frombytes(\"RGB\", (256, 312), encrypted)\n"
   ]
  },
  {
   "cell_type": "markdown",
   "id": "2f74c758",
   "metadata": {},
   "source": [
    "## 3. Application\n",
    "\n",
    "Le problème de l'apparition du pinguin n'est pas le DES ou le AES, mais le mode d'opération ECB. En regardant sur le site de [PyCryptoDome](https://www.pycryptodome.org/en/latest/src/cipher/aes.html) vous pouvez voir les différents modes de AES. Testez les différents modes en changeant la fonction image_AES et regardez les différents résultats."
   ]
  },
  {
   "cell_type": "code",
   "execution_count": null,
   "id": "377d336e",
   "metadata": {
    "button": false,
    "id": "-Fk-3jvpdEcq",
    "new_sheet": false,
    "run_control": {
     "read_only": false
    },
    "tags": []
   },
   "outputs": [],
   "source": [
    "# Série 3 - Exercice 1 - Partie 3"
   ]
  }
 ],
 "metadata": {
  "colab": {
   "collapsed_sections": [],
   "name": "jour_2_série_3_exo_2.ipynb",
   "provenance": []
  },
  "kernelspec": {
   "display_name": "Python 3",
   "language": "python",
   "name": "python3"
  },
  "language_info": {
   "codemirror_mode": {
    "name": "ipython",
    "version": 3
   },
   "file_extension": ".py",
   "mimetype": "text/x-python",
   "name": "python",
   "nbconvert_exporter": "python",
   "pygments_lexer": "ipython3",
   "version": "3.9.6"
  }
 },
 "nbformat": 4,
 "nbformat_minor": 5
}
