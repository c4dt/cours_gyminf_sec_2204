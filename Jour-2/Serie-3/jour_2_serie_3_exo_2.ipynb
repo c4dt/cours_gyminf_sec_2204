{
 "cells": [
  {
   "cell_type": "markdown",
   "id": "976a9b8d",
   "metadata": {
    "button": false,
    "id": "xc0a_EOTck4x",
    "new_sheet": false,
    "run_control": {
     "read_only": false
    }
   },
   "source": [
    "# Série 3 - Exercice 2 - PAS FAIT PENDANT LE COURS - PAS DANS L'EXAMEN!\n",
    "\n",
    "Dans cette exercice vous allez utiliser un émulateur Enigma pour déchiffrer un message.\n",
    "\n",
    "## 1. Connaissance\n",
    "\n",
    "On va commencer par utiliser un émulateur Enigma qui montre le fonctionnement d'une telle machine:\n",
    "\n",
    "[Enigma Machine Emulator](https://www.101computing.net/enigma-machine-emulator/)\n",
    "\n",
    "- La position des roteurs au début est: KNX\n",
    "- Et le message secret est: RGDRF YTPWK BIAR\n",
    "\n",
    "## 2. Compréhension\n",
    "\n",
    "Vous trouvez plus d'informations sur le site de Wikipédia: [Enigma](https://fr.wikipedia.org/wiki/Enigma_(machine)).\n",
    "\n",
    "- Essayez de chiffrer vous-même un message, et passez-le à un.e collègue, avec l'information des roteurs, bien sûr!\n",
    "\n",
    "## 3. Application\n",
    "\n",
    "- A quoi sert le panneau avec les lettres qui peuvent être combinée? Choisissez deux paires et refaites le même message qu'avant. Qu'est-ce qui change?\n"
   ]
  }
 ],
 "metadata": {
  "colab": {
   "collapsed_sections": [],
   "name": "jour_2_série_3_exo_2.ipynb",
   "provenance": []
  },
  "kernelspec": {
   "display_name": "Python 3",
   "language": "python",
   "name": "python3"
  },
  "language_info": {
   "codemirror_mode": {
    "name": "ipython",
    "version": 3
   },
   "file_extension": ".py",
   "mimetype": "text/x-python",
   "name": "python",
   "nbconvert_exporter": "python",
   "pygments_lexer": "ipython3",
   "version": "3.9.6"
  }
 },
 "nbformat": 4,
 "nbformat_minor": 5
}
