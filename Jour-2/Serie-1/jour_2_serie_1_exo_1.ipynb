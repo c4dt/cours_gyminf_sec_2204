{
 "cells": [
  {
   "cell_type": "markdown",
   "id": "fe984cec",
   "metadata": {
    "button": false,
    "id": "OJkcQuONXhj4",
    "new_sheet": false,
    "run_control": {
     "read_only": false
    }
   },
   "source": [
    "# Série 1 - Jupyter - votre premier \"Notbook Python\"\n",
    "\n",
    "Ce système vous permet de facilement utiliser le langage Python dans un navigateur web.\n",
    "Il permet d'offrir un environnement facile à utiliser (mais sans correcteur d'orthographe :).\n",
    "On va y aller doucement: chaque exercice consiste de trois parties (encore Bloom...):\n",
    "\n",
    "1. *Connaissance* - Une introduction avec un bout de Python qui tourne toute seule\n",
    "2. *Compréhension* - Un ou plusieurs exercices ou ces mêmes commandes sont à utiliser par vous-mêmes\n",
    "3. *Application+* - Un ou plusieurs exercices qui requièrent des commandes supplémentaires ou même la programmation\n",
    "\n",
    "Concernant le cours, et surtout l'examen, je fais les exigeances suivantes:\n",
    "\n",
    "1. Il faut avoir compris cela - il y aura des questions dessus\n",
    "2. Si vous n'arrivez pas à faire ces exercices, vous devrez réfléchir sur le choix d'enseignant informatique ;) Mais c'est surtout pour approfondir la compréhension\n",
    "3. Ceci est un bonus. Pour ceux qui connaissent déjà la programmation. Il pourrait avoir des questions bonus à l'examen, mais vous arrivez à la note maximale sans ces questions.\n",
    "\n",
    "## Enregistrement et Récupération\n",
    "\n",
    "![Gestion et Téléchargement](./files_download.png)\n",
    "\n",
    "- Téléchargement - qui vous donnera une copie de votre feuille de travail que vous pouvez enregistrer sur votre ordinateur\n",
    "- Navigateur - enregistrer et récupérer depuis votre navigateur. Seulement une version va être gérée par votre navigateur!\n",
    "- Gestion de fichiers - vous fait repasser sur la première vue où vous pouvez naviguer parmis les fichiers et aussi faire un `Upload` d'une sauvegarde\n",
    "\n",
    "## Rendu d'exercices\n",
    "\n",
    "Il n'y aura pas de rendu des exercices. Pendant le cours on verra les parties 1. et 2. des exercices. Si vous voulez que je vérifie les parties \"3.\", vous pouvez m'envoyer votre Jupyter notebook.\n",
    "\n",
    "## Modifier et rendu\n",
    "\n",
    "Pour changer entre modification et rendu d'un bloc, il suffit de:\n",
    "- modification: double-cliquez dans le texte, ou appuyer sur \"Entré\"\n",
    "- rendu: cliquer sur le \"play\" en haut, ou appuyez sur \"shift + entré\"\n",
    "\n",
    "## Navigation\n",
    "\n",
    "Vous pouvez utiliser la navigation avec les curseurs \"Up\" et \"Down\", mais aussi avec la souris, bien sûr...\n",
    "Pour naviguer à l'intérieur d'une ligne, vous pouvez utiliser la touche ALT (Option sous Mac) plus les curseurs \"Droite\" et \"Gauche\" pour sauter d'un mot à l'autre. C'est un peu plus rapide...\n",
    "Bien sûr que les \"PgUp\", \"PgDn\", \"Home\", et \"End\" marchent aussi.\n",
    "\n",
    "## Installation sur ordinateur\n",
    "\n",
    "C'est aussi possible d'installer le Jupyter sur son propre ordinateur pour utiliser les notebooks chez soi. Vu le nombre d'étudiants je ne peux pas donner du support pour ceci. Si quelqu'un d'entre vous réussi de faire l'installation, et si il/elle veut bien le montrer à d'autres, sentez-vous libre de vous annoncer.\n",
    "\n",
    "J'ai fait l'installation sous Mac en suivant ceci: [Installation Jupyter Windows](https://jupyter.org/install) - si quelqu'un a réussi à faire de même, et que vous êtes prêt-e pour aider les autres, écrivez-le sur le forum!\n",
    "\n",
    "Pour la série 3, il ne faut pas oublier d'installer les packets supplémentaires dans `requirements.txt`.\n",
    "\n",
    "**Je ne peux pas vous donner du support pour l'utilisation de Jupyter sur votre ordinateur!**\n",
    "\n",
    "### Récupérer les fichiers\n",
    "\n",
    "Pour prendre les fichiers, il faut soit utiliser git, soit les télécharger depuis github:\n",
    "\n",
    "- avec git:\n",
    "\n",
    "    git clone https://github.com/c4dt/cours_gyminf_sec_2110\n",
    "\n",
    "- en utilisant github: [Telechargement cours](https://github.com/c4dt/cours_gyminf_sec_2110/archive/refs/heads/main.zip)"
   ]
  },
  {
   "cell_type": "markdown",
   "id": "1e33a20a",
   "metadata": {
    "button": false,
    "id": "pCYLwa2lXhj-",
    "new_sheet": false,
    "run_control": {
     "read_only": false
    }
   },
   "source": [
    "# Exercice 1\n",
    "\n",
    "Ce premier exercice vous permet de découvrir le système Jupyter un peu. On va commencer avec la partie \"Markdown\", qui vous permet d'écrire du texte entre deux parties \"Code\".\n",
    "\n",
    "Si vous ne connaissez pas encore le format \"MD\", vous pouvez aller lire ceci: [Markdown Memo](https://documentation-snds.health-data-hub.fr/files/images/tutoriel_gitlab/2020-03-30_HDH_Cheatsheet-markdown_MLP-2.0.pdf)\n",
    "\n",
    "Vous pouvez modifier tout ce que vous voulez dans ce bloc. Mais pour enregistrer, il faut soit télécharger le \"Notebook\", soit l'enregistrer dans votre navigateur!\n",
    "\n",
    "## 1. Editer le texte\n",
    "\n",
    "Dans ce premier exercice on va voir les données personnelles et sensibles dans une application de chat. D'abord on va les collecter, puis on va identifier l'impact sur ces données s'ils sont accédées d'une façon inapproprié.\n",
    "Dans un dernier pas, on va réfléchir comment on peut sécurisé les données qui ont un niveau d'impact plus grand que \"Bas\".\n",
    "\n",
    "### L'application de chat\n",
    "\n",
    "On s'imagine une application de chat avec les propriétés suivantes:\n",
    "\n",
    "- L'utilisateur doit entrer son nom complet, ainsi que son numéro de téléphone. Son nom est disponible à tous les autres utilisateurs, et son numéro de téléphone est utilisé pour la vérification que c'est une personne unique. L'app demande une carte de crédit pour l'inscription et pour des offres supplémentaires.\n",
    "- En plus de cela, l'application va demander la date de naissance pour offrir des cadeaux de promotion à lutilisateur.\n",
    "- La liste de contactes de l'utilisateur est utilisée pour inviter tout le monde à rejoindre l'application de chat.\n",
    "\n",
    "On va commencer par remplir le tableau à la fin de l'exercice avec les données nécessaires. Certaines cases sont déjà remplies.\n",
    "\n",
    "Dans un deuxième temps on va réfléchir quel est le niveau d'impact d'une intrusion dans ces données, ou simplement :\n",
    "- I1 - impact bas, on ne vas pas le mettre\n",
    "- I2 - impact moyen\n",
    "- I3 - impact élevé\n",
    "\n",
    "Et finalement on va voir s'il faut changer l'utilisation de l'une ou l'autre donnée, et comment on peut la protéger.\n",
    "\n",
    "### Premières entrées\n",
    "\n",
    "J'ai déjà commencé avec les données suivantes:\n",
    "- \"nom complet\" / salutation, contacts / Tout le monde\n",
    "Comme impact j'ai choisi I2, vu que ça permet d'identifier une personne assez souvent.\n",
    "- \"# de téléphone / vérification compte\n",
    "- Date de naissance\n",
    "\n",
    "A vous de compléter:\n",
    "- trouvez une quatrième donnée que l'application de chat va stocker\n",
    "- remplissez les lignes \"Pourquoi\" et \"Partagé avec\"\n",
    "- mettez des I2, I3 dans les lignes \"Partagé avec\" et \"Sécurisation\"\n",
    "- réfléchissez comment vous pouvez faire la sécurisation des données\n",
    "\n",
    "Voici le tableau que vous devez compléter. Pour faire un retour à la ligne dans une cellule, utilisez le code suivant: `<br>`.\n",
    "Si les cellules ne sont pas jolis dans le texte `md`, ils vont s'afficher quand même correctement.\n",
    "\n",
    "\n",
    "| Donnée | Utilisation | Partagé avec | Sécurisation |\n",
    "| --- | --- | --- | --- |\n",
    "| Nom complet | Salutation contact <br>Affichage | Tout le monde | I2 |\n",
    "| # de téléphone | Vérification compte | | |\n",
    "| Date de<br>naissance | | | |\n",
    "| | | | |"
   ]
  },
  {
   "cell_type": "markdown",
   "id": "c4d855d3",
   "metadata": {},
   "source": [
    "## 2. Lancer du code\n",
    "\n",
    "Comme le nom l'indique, Jupyter utilise le langage Python. On peut donc aisément faire tourner du code python. Commencez par exécuter le code dans la partie 2.\n",
    "\n",
    "Maintenant ajoutez une commande qui va afficher votre nom."
   ]
  },
  {
   "cell_type": "code",
   "execution_count": null,
   "id": "e69bafa5",
   "metadata": {
    "scrolled": true
   },
   "outputs": [],
   "source": [
    "# Série 1 - Exercice 1 - Partie 2\n",
    "\n",
    "print(\"mon premier code Jupyter\")\n",
    "print(\"le nom, quoi!\")"
   ]
  },
  {
   "cell_type": "markdown",
   "id": "87c5b6b0",
   "metadata": {},
   "source": [
    "## 3. Utiliser des fonctions\n",
    "\n",
    "Si vous exécutez le code dans la partie 3, on ne voit aucune sortie. Pourtant vous venez de définir une fonction que vous pouvez désormais utiliser!\n",
    "\n",
    "Ajoutez le code `saluer(\"Jupyter\")` sur une nouvelle ligne. Il faut:\n",
    "- avoir une ligne vide entre la dernière ligne de la fonction et votre appel à la fonction\n",
    "- avoir l'appel sans espace au début, sinon il fait partie de la fonction\n",
    "\n",
    "Vous pouvez aussi changer la fonction `saluer`, par exemple:\n",
    "- saluer en français\n",
    "- mettre le nom en majuscules\n",
    "- donner l'heure qu'il est"
   ]
  },
  {
   "cell_type": "code",
   "execution_count": null,
   "id": "54b2b77a",
   "metadata": {},
   "outputs": [],
   "source": [
    "# Série 1 - Exercice 1 - Partie 3\n",
    "\n",
    "def saluer(name: str):\n",
    "    print(f'hello {name}')\n",
    "\n",
    "\n",
    "saluer(\"Jupyter\")"
   ]
  }
 ],
 "metadata": {
  "colab": {
   "collapsed_sections": [],
   "name": "jour_2_série_1_exo_1.ipynb",
   "provenance": []
  },
  "kernelspec": {
   "display_name": "Python 3",
   "language": "python",
   "name": "python3"
  },
  "language_info": {
   "codemirror_mode": {
    "name": "ipython",
    "version": 3
   },
   "file_extension": ".py",
   "mimetype": "text/x-python",
   "name": "python",
   "nbconvert_exporter": "python",
   "pygments_lexer": "ipython3",
   "version": "3.9.6"
  }
 },
 "nbformat": 4,
 "nbformat_minor": 5
}
