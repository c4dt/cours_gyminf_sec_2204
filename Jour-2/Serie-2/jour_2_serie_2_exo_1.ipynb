{
 "cells": [
  {
   "cell_type": "markdown",
   "id": "f0baa64f",
   "metadata": {
    "button": false,
    "id": "OJkcQuONXhj4",
    "new_sheet": false,
    "run_control": {
     "read_only": false
    }
   },
   "source": [
    "# Série 2\n",
    "\n",
    "Maintenant que vous connaisez un peu le Jupyter, ça devrait être plus simple.\n",
    "Dans cette série, nous allons découvrir les functions de hachage.\n",
    "On va d'abord faire quelques essais avec des functions de hacahge peu performant, pour voire comment on peut les attaquer.\n",
    "Ensuite on va passer aux *vraies* functions de hachage, et voir que les attaques sont beaucoup plus difficiles que ça."
   ]
  },
  {
   "cell_type": "markdown",
   "id": "f2bc817e",
   "metadata": {
    "button": false,
    "id": "pCYLwa2lXhj-",
    "new_sheet": false,
    "run_control": {
     "read_only": false
    }
   },
   "source": [
    "# Exercice 1\n",
    "\n",
    "Pour cette exercice, nous allons utiliser une function de hachage très simple pour protéger un message. Puis on va attaquer cette function afin de changer le message sans que la vérification le remarque.\n",
    "\n",
    "On verra le jour 3 comment ceci peut être utilisé dans des produits commerciaux. Pour cet exercice, on va juste assumer que la chose suivante se passe:\n",
    "\n",
    "1. Un long texte est disponible sur internet\n",
    "2. Sur le site se trouve le numéro obtenu après hachage de ce texte\n",
    "3. Un ami nous donne une copie du texte, et on veut vérifier si le texte est authentique.\n",
    "\n",
    "## 1. Connaissance\n",
    "\n",
    "On va inventer une function de hachage très simple, qui fait la chose suivante:\n",
    "\n",
    "- pour chaque charactère d'une phrase, prendre son numéro [ASCII](https://fr.wikipedia.org/wiki/American_Standard_Code_for_Information_Interchange), multipliez le par la position dans la phrase, et prenez la somme de tous ces numéros\n",
    "\n",
    "Dans la partie de code en bas, cette function s'appelle `simple_hash` et prend en entrée une phrase, pour sortir un numéro.\n",
    "\n",
    "Vous pouvez démarrer la première partie, et vérifier que:\n",
    "\n",
    "1. Les phrases 1 et 2 ont bien un numéro différent\n",
    "2. Les phrases 2 et 3 produisent le même numéro, il y a donc une collision!\n",
    "\n",
    "Aussi important pour une function de hachage, cette fois-ci chaque fois que vous lancez le block, vous recevez le même résultat!"
   ]
  },
  {
   "cell_type": "code",
   "execution_count": 1,
   "id": "6b68c785",
   "metadata": {
    "button": false,
    "colab": {
     "base_uri": "https://localhost:8080/"
    },
    "executionInfo": {
     "elapsed": 498,
     "status": "ok",
     "timestamp": 1620308408107,
     "user": {
      "displayName": "linus gasser",
      "photoUrl": "https://lh3.googleusercontent.com/a-/AOh14GiT9d_hiiZE9FHyx2dphb24xe4f0737HSVlpv54=s64",
      "userId": "10501199511424753986"
     },
     "user_tz": -120
    },
    "id": "c4LOmHuC3UlH",
    "jupyter": {
     "outputs_hidden": false
    },
    "new_sheet": false,
    "outputId": "c4380dab-f7f2-400e-df5b-ca30bf722034",
    "run_control": {
     "read_only": false
    }
   },
   "outputs": [
    {
     "name": "stdout",
     "output_type": "stream",
     "text": [
      "Hash of \"Payez 150CHF pour la guitare\" is: 36848\n",
      "Hash of \"Payez 1500CHF pour la guitare\" is: 39045\n",
      "Hash of \"Payez 2310CHF pour la guitare\" is: 39045\n"
     ]
    }
   ],
   "source": [
    "# Série 2 - Exercice 1 - Partie 1\n",
    "\n",
    "# This calculates the hash as the sum of all characters in a phrase. Of course\n",
    "# this is very insecure and should never be used in real life.\n",
    "def simple_hash(phrase: str) -> int:\n",
    "  hash = 0\n",
    "  for i, c in enumerate(phrase):\n",
    "    hash = hash + ord(c) * (i+1)\n",
    "\n",
    "  return hash\n",
    "\n",
    "# Pretty print the hash of a phrase.\n",
    "def print_hash(phrase: str):\n",
    "  print('Hash of \"{}\" is: {}'.format(phrase, simple_hash(phrase)))\n",
    "\n",
    "print_hash(\"Payez 150CHF pour la guitare\")\n",
    "print_hash(\"Payez 1500CHF pour la guitare\")\n",
    "print_hash(\"Payez 2310CHF pour la guitare\")\n"
   ]
  },
  {
   "cell_type": "markdown",
   "id": "75ad904d",
   "metadata": {},
   "source": [
    "## 2. Compréhension\n",
    "\n",
    "Maintenant on va utiliser cette function de hachage pour coment casser la résistance aux collisions qui sont définies dans une function de hachage cryptographique:\n",
    "\n",
    "1. Collision libre\n",
    "2. Résistance aux pre-image\n",
    "3. Résistance aux 2nd pre-image\n",
    "\n",
    "### Collision libre\n",
    "\n",
    "Pour cette attaque, il vous faut trouver deux phrases qui donnent le même résultat de hachage:\n",
    "- aucune restriction\n",
    "- les phrases doivent être au moins 10 caractères de long\n",
    "- comme avant, mais les 10 premières caractères doivent être les mêmes\n",
    "\n",
    "### Résistance au pre-image\n",
    "\n",
    "Maintenant on s'intéresse à une attaque qui essaie d'introduire un message aléatoire, donné le hachage. Ce qui complique cette exercice, c'est qu'on n'a aucune idée du message qui a généré ce hachage!\n",
    "\n",
    "Le numéro de hachage est le: 29033!\n",
    "\n",
    "### Résistance au 2nd pre-image\n",
    "\n",
    "Cet exercice est en fait un peu plus simple: en plus du numéro de hachage, on possède un message qui a été utilisé pour créer ce numéro de hachage. On peut donc comencer à changer les chiffres et lettres jusqu'à obtenir le même numéro de hachage.\n",
    "\n",
    "La phrase pour laquelle il faut trouver une collision est:\n",
    "\n",
    "\"So long and thanks for all the fish\""
   ]
  },
  {
   "cell_type": "code",
   "execution_count": 26,
   "id": "b31f7435",
   "metadata": {
    "button": false,
    "colab": {
     "base_uri": "https://localhost:8080/"
    },
    "executionInfo": {
     "elapsed": 514,
     "status": "ok",
     "timestamp": 1620309140349,
     "user": {
      "displayName": "linus gasser",
      "photoUrl": "https://lh3.googleusercontent.com/a-/AOh14GiT9d_hiiZE9FHyx2dphb24xe4f0737HSVlpv54=s64",
      "userId": "10501199511424753986"
     },
     "user_tz": -120
    },
    "id": "aDXhbt_135NG",
    "jupyter": {
     "outputs_hidden": false
    },
    "new_sheet": false,
    "outputId": "585b1c40-e876-4972-e065-8e627c4de832",
    "run_control": {
     "read_only": false
    }
   },
   "outputs": [
    {
     "name": "stdout",
     "output_type": "stream",
     "text": [
      "Hash of \"cremière phrase\" is: 12895\n",
      "Hash of \"Deuxième phrase\" is: 12895\n",
      "Hash of \"zzzzzzzzzzzzzzzyzzzzEZ\" is: 29033\n",
      "Hash of \"So long and thanks for all the fish\" is: 58038\n",
      "Hash of \"Un long and thanks for all the fish\" is: 58038\n"
     ]
    }
   ],
   "source": [
    "# Série 2 - Exercice 1 - Partie 2\n",
    "\n",
    "# Créer une collision libre\n",
    "print_hash(\"Première phrase\")\n",
    "print_hash(\"Deuxième phrase\")\n",
    "\n",
    "# Créer une pre-image du numéro de hachage 29033\n",
    "print_hash(\"\")\n",
    "\n",
    "# Créer une second pre-image de \"So long and thanks for all the fish\"\n",
    "print_hash(\"So long and thanks for all the fish\")\n",
    "print_hash(\"So long and thanks for all the fish\")\n"
   ]
  },
  {
   "cell_type": "markdown",
   "id": "673f662b",
   "metadata": {},
   "source": [
    "## 3. Application\n",
    "\n",
    "Si vous connaissez un peu la programmation en Python, il est possible de faire une attaque plus automatisée pour les trois collisions de la partie \"Compréhension\":\n",
    "\n",
    "### Collision libre\n",
    "\n",
    "Ecrivez la fonction `collision_any` qui prend en argument la longueur de la phrase et qui répond avec deux phrases qui donnent le même hachage.\n",
    "Pour les phrases, prenez seulement les lettres alphanumériques. Ou pour faire plus joli, incluez un dictionnaire avec des mots que vous choisissez pour créer les phrases.\n",
    "\n",
    "### Pre-image\n",
    "\n",
    "Ecrivez la fonction `collision_pre_image` qui prend un numéro de hachage et qui retourne une phrase qui a le même numéro de hachage.\n",
    "\n",
    "### 2nd pre-image\n",
    "\n",
    "Ecrivez la fonction `collision_2nd_pre_image` qui prend une phrase et qui retourne une autre phrase avec des changements minimaux pour donner le même numéro de hachage.\n",
    "\n",
    "Vous pouvez 'tricher' et résoudre ce problème dans un temps constant indépendant de la phrase donnée. Mais dans ce cas il faudra bien faire attention au cas limites..."
   ]
  },
  {
   "cell_type": "code",
   "execution_count": null,
   "id": "5016f333",
   "metadata": {
    "button": false,
    "id": "OBEROn8e67N_",
    "jupyter": {
     "outputs_hidden": true
    },
    "new_sheet": false,
    "run_control": {
     "read_only": false
    }
   },
   "outputs": [],
   "source": [
    "# Série 2 - Exercice 1 - Partie 3\n",
    "\n",
    "def collision_any(length: int) -> str:\n",
    "  pass\n",
    "\n",
    "def collision_pre_image(hash: int) -> str:\n",
    "  pass\n",
    "\n",
    "def collision_2nd_pre_image(phrase: str) -> str:\n",
    "  pass"
   ]
  }
 ],
 "metadata": {
  "colab": {
   "name": "jour_2_série_2_exo_1.ipynb",
   "provenance": []
  },
  "kernelspec": {
   "display_name": "Python 3",
   "language": "python",
   "name": "python3"
  },
  "language_info": {
   "codemirror_mode": {
    "name": "ipython",
    "version": 3
   },
   "file_extension": ".py",
   "mimetype": "text/x-python",
   "name": "python",
   "nbconvert_exporter": "python",
   "pygments_lexer": "ipython3",
   "version": "3.9.6"
  }
 },
 "nbformat": 4,
 "nbformat_minor": 5
}
