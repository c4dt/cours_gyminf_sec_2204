{
 "cells": [
  {
   "cell_type": "markdown",
   "id": "85bcd0df",
   "metadata": {
    "button": false,
    "id": "OJkcQuONXhj4",
    "new_sheet": false,
    "run_control": {
     "read_only": false
    }
   },
   "source": [
    "# Série 1\n",
    "\n",
    "Dans cette série on va s'occuper de la cryptographie asymétrique et faire quelques exercices avec. On utilise la librairie libnacl (prononcé \"lib-salt\", peut-être \"lib-sel\" en français). Elle est bien connue et permet d'utiliser les algorithmes cryptographiques à différents niveaux.\n",
    "\n",
    "Exercice 1 va vous montrer comment on signe un message, et dans l'Exercice 2 on va essayer de faire un echange de Diffie-Hellman."
   ]
  },
  {
   "cell_type": "markdown",
   "id": "3a8b258a",
   "metadata": {
    "button": false,
    "id": "xc0a_EOTck4x",
    "new_sheet": false,
    "run_control": {
     "read_only": false
    }
   },
   "source": [
    "# Exercice 1\n",
    "\n",
    "On va faire quelques exercices autour de la signature d'un message en utilisant la librairie libnacl.\n",
    "\n",
    "## 1. Connaissance\n",
    "\n",
    "Regardez cette partie de signature d'un simple message et découvrez les éléments suivants:\n",
    "- la clé privée et la clé publique\n",
    "- la signature\n",
    "\n",
    "Pourquoi la signature dans le premier `print` est si cryptique?\n",
    "Et pourquoi la deuxième fois c'est plus 'joli'?\n",
    "\n",
    "**Dans le premier `print` se trouve la signature suivi du message. Vu que la signature est un\n",
    "array binaire, elle est représentée avec des caractères héxadécimaux si ceux-ci ne peuvent pas\n",
    "être affichés normalement.**\n",
    "\n",
    "**Dans le deuxième `print` la méthode `hex()` est utilisé qui elle retourne une représentation\n",
    "héxadécimale de la signature**"
   ]
  },
  {
   "cell_type": "code",
   "execution_count": null,
   "id": "aec582c8",
   "metadata": {
    "button": false,
    "colab": {
     "base_uri": "https://localhost:8080/",
     "height": 368
    },
    "executionInfo": {
     "elapsed": 2479,
     "status": "error",
     "timestamp": 1620330981935,
     "user": {
      "displayName": "linus gasser",
      "photoUrl": "https://lh3.googleusercontent.com/a-/AOh14GiT9d_hiiZE9FHyx2dphb24xe4f0737HSVlpv54=s64",
      "userId": "10501199511424753986"
     },
     "user_tz": -120
    },
    "id": "4qOznnPDckVh",
    "jupyter": {
     "outputs_hidden": false
    },
    "new_sheet": false,
    "outputId": "5d83ac62-f84e-405a-8990-2414a9d0e570",
    "run_control": {
     "read_only": false
    }
   },
   "outputs": [],
   "source": [
    "# Série 1 - Exercice 1 - Partie 1\n",
    "\n",
    "import libnacl, libnacl.sign\n",
    "\n",
    "msg = (b'Well, that\\'s no ordinary rabbit.  That\\'s the most foul, '\n",
    "       b'cruel, and bad-tempered rodent you ever set eyes on.')\n",
    "\n",
    "# Create a Signer Object, if the key seed value is not passed in the\n",
    "# signing keys will be automatically generated\n",
    "signer = libnacl.sign.Signer()\n",
    "# Sign the message, the signed string is the message itself plus the\n",
    "# signature\n",
    "signed = signer.sign(msg)\n",
    "print(\"La signature plus le message est:\", signed)\n",
    "\n",
    "# If only the signature is desired without the message:\n",
    "signature = signer.signature(msg)\n",
    "print(\"La signature est:\", signature.hex())\n",
    "# To create a verifier pass in the verify key:\n",
    "veri = libnacl.sign.Verifier(signer.hex_vk())\n",
    "# Verify the message!\n",
    "verified = veri.verify(signed)\n",
    "verified2 = veri.verify(signature + msg)\n",
    "\n",
    "print(\"Tout est bon et vérifié!\", verified)"
   ]
  },
  {
   "cell_type": "markdown",
   "id": "ca4b4e57-07d8-42e0-8be3-d71b1bde7fa7",
   "metadata": {},
   "source": [
    "## 2. Compréhension\n",
    "\n",
    "1. Essayez de faire échouer le message. Il y a deux moyens:\n",
    "- utiliser un autre message\n",
    "- utiliser une autre clé pour vérifier\n",
    "\n",
    "Copier le code de la première partie, et changez aussi peu de code que possible."
   ]
  },
  {
   "cell_type": "code",
   "execution_count": null,
   "id": "45919aa3",
   "metadata": {
    "button": false,
    "id": "9HYfk1lTc7Hp",
    "new_sheet": false,
    "run_control": {
     "read_only": false
    }
   },
   "outputs": [],
   "source": [
    "# Série 1 - Exercice 1 - Partie 2\n",
    "\n",
    "def verify_msg(signature, msg, verifier) -> bool:\n",
    "    try:\n",
    "        verifier.verify(signature + msg)\n",
    "        return True\n",
    "    except:\n",
    "        return False\n",
    "    \n",
    "\n",
    "msg1 = (b'Well, that\\'s no ordinary rabbit.  That\\'s the most foul, '\n",
    "       b'cruel, and bad-tempered rodent you ever set eyes on.')\n",
    "msg2 = (b'Well, that\\'s an ordinary rabbit.  That\\'s the most gentle, '\n",
    "       b'friendly, and cute rodent you ever set eyes on.')\n",
    "\n",
    "\n",
    "# Create a Signer Object, if the key seed value is not passed in the\n",
    "# signing keys will be automatically generated\n",
    "signer1 = libnacl.sign.Signer()\n",
    "signer2 = libnacl.sign.Signer()\n",
    "signature = signer1.signature(msg1)\n",
    "\n",
    "# To create a verifier pass in the verify key:\n",
    "veri1 = libnacl.sign.Verifier(signer1.hex_vk())\n",
    "veri2 = libnacl.sign.Verifier(signer2.hex_vk())\n",
    "# Verify the message!\n",
    "print(f\"Vérification avec la bonne clé: {verify_msg(signature, msg1, veri1)}\")\n",
    "print(f\"Vérification avec la mauvaise clé: {verify_msg(signature, msg1, veri2)}\")\n",
    "print(f\"Vérification avec le mauvais message: {verify_msg(signature, msg2, veri1)}\")\n",
    "\n",
    "print(\"Tout est bon et vérifié!\")"
   ]
  },
  {
   "cell_type": "markdown",
   "id": "db72641b-ad63-465e-bd97-16ce4c9af5e5",
   "metadata": {},
   "source": [
    "## 3. Application\n",
    "\n",
    "Ici on veut que vous créez deux messages, vous en signez une, et vous envoyez les deux messages, la signature, plus la clé publique à un autre étudiant. A lui de trouver quel message vous avez vraiment signé.\n",
    "\n",
    "On reste avec le code d'exemple qu'il faut copier ici. Vous avez vu que les méthodes `hex*` appelés sur les éléments permettent de retourner une représentation en héxadécimal d'une clé ou de la signature."
   ]
  },
  {
   "cell_type": "code",
   "execution_count": null,
   "id": "377d336e",
   "metadata": {
    "button": false,
    "id": "-Fk-3jvpdEcq",
    "new_sheet": false,
    "run_control": {
     "read_only": false
    },
    "tags": []
   },
   "outputs": [],
   "source": [
    "# Série 1 - Exercice 1 - Partie 3"
   ]
  }
 ],
 "metadata": {
  "colab": {
   "collapsed_sections": [],
   "name": "jour_2_série_3_exo_2.ipynb",
   "provenance": []
  },
  "kernelspec": {
   "display_name": "Python 3",
   "language": "python",
   "name": "python3"
  },
  "language_info": {
   "codemirror_mode": {
    "name": "ipython",
    "version": 3
   },
   "file_extension": ".py",
   "mimetype": "text/x-python",
   "name": "python",
   "nbconvert_exporter": "python",
   "pygments_lexer": "ipython3",
   "version": "3.9.6"
  }
 },
 "nbformat": 4,
 "nbformat_minor": 5
}
