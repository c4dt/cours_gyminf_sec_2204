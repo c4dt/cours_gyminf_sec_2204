{
 "cells": [
  {
   "cell_type": "markdown",
   "id": "3a8b258a",
   "metadata": {
    "button": false,
    "id": "xc0a_EOTck4x",
    "new_sheet": false,
    "run_control": {
     "read_only": false
    }
   },
   "source": [
    "# Série 2 - Exercice 1\n",
    "\n",
    "On va faire quelques requêtes SSL vers des sites pour voir comment ils répondent.\n",
    "\n",
    "## 1. Connaissance\n",
    "\n",
    "La façon la plus simple de faire ces connexions est en fait d'utiliser le navigateur. \n",
    "Autant Mozilla Firefox, Chrome, Safari, Edge, vous permettent de montrer les certificats\n",
    "utilisés pour sécuriser le site visité.\n",
    "\n",
    "Donc pour cette première partie, visitez les sites suivants avec votre navigateur, et trouvez:\n",
    "- le nombre de certificats dans la liste\n",
    "- le certificat de base\n",
    "\n",
    "Les sites sont:\n",
    "- https://google.ch\n",
    "- https://google.com\n",
    "- https://moodle.unifr.ch/\n",
    "- https://web.fledg.re\n",
    "\n",
    "Est-ce que vous trouvez le site qui utilise Let's Encrypt?"
   ]
  },
  {
   "cell_type": "markdown",
   "id": "b40e9be9-353c-4077-b9b1-079e6921d358",
   "metadata": {},
   "source": [
    "## 2. Compréhension\n",
    "\n",
    "Utiliser le navigateur est simple, mais en utilisant Python on voit un peu plus comment ça marche.\n",
    "Dans l'exemple en bas, il y a quelques méthods qui ont été créées, tout d'abord ceux-ci:\n",
    "\n",
    "- ´get_connection_chain´ se connecte au serveur indiqué et retourne la connection et la chaîne de certificats - ATTENTION: il faut seulement donner le nom de domaine, pas l'URL complète!\n",
    "- ´dump_cert´ imprime un certificat\n",
    "- ´dump_chain´ imprime toute la chaîne\n",
    "\n",
    "Qu'est-ce que vous observez en lançant le code? Pourquoi c'est différent?\n",
    "\n",
    "**Si on regarde la chaîne de certificats pour `google.ch` ou `google.com`, on voit que le certificat racine\n",
    "est différent que celui affiché par le navigateur.**\n",
    "\n",
    "**Je soupçonne que les serveurs google retournent une chaîne différente selon le client qui fait la requête.\n",
    "Si c'est un client Chrome ou Firefox, il peut retourner une chaîne avec un certificat signé par lui-même.\n",
    "Sinon il retourne un certificat signé par une autorité reconnue.**\n",
    "\n",
    "**Vous pouvez suivre la résolution de ce mystère ici: \n",
    "https://stackoverflow.com/questions/70157494/is-google-returning-different-certificates-for-different-clientts**\n",
    "\n",
    "Grâce au Python, nous avons aussi de l'information supplémentaire sur la connexion. Essayez les deux adresses suivantes:\n",
    "- https://xkcd.com\n",
    "- https://sssscomic.com\n"
   ]
  },
  {
   "cell_type": "code",
   "execution_count": null,
   "id": "45919aa3",
   "metadata": {
    "button": false,
    "id": "9HYfk1lTc7Hp",
    "new_sheet": false,
    "run_control": {
     "read_only": false
    }
   },
   "outputs": [],
   "source": [
    "# Série 2 - Exercice 1 - Partie 2\n",
    "\n",
    "from OpenSSL import SSL, crypto\n",
    "import socket, certifi\n",
    "\n",
    "def dump_cert(cert):\n",
    "    for component in cert.get_subject().get_components():\n",
    "        print(\"Subject %s: %s\" % (component))\n",
    "             \n",
    "    print(\"notBefore:\", cert.get_notBefore())\n",
    "    print(\"notAfter:\", cert.get_notAfter())\n",
    "    print(\"version:\" + str(cert.get_version()))\n",
    "    print(\"sigAlg:\", cert.get_signature_algorithm())\n",
    "    print(\"digest:\", cert.digest('sha256'))\n",
    "    print(\"issuer:\", cert.get_issuer())\n",
    "    print()\n",
    "    \n",
    "def get_connection_chain(host, port = 443):\n",
    "    dst = (str.encode(host), port)\n",
    "    ctx = SSL.Context(SSL.TLSv1_2_METHOD)\n",
    "    s = socket.create_connection(dst)\n",
    "    s = SSL.Connection(ctx, s)\n",
    "    s.set_connect_state()\n",
    "    s.set_tlsext_host_name(dst[0])\n",
    "\n",
    "    s.sendall(b'HEAD / HTTP/1.2\\n\\n')\n",
    "    s.recv(16)\n",
    "    return (s, s.get_peer_cert_chain())\n",
    "\n",
    "def dump_chain(chain):\n",
    "    for pos, cert in enumerate(chain):\n",
    "        print(\"Certificate #\" + str(pos))\n",
    "        dump_cert(cert)\n",
    "        \n",
    "def dump_connection(conn):\n",
    "    print(\"Cipher name:\", conn.get_cipher_name())\n",
    "    print(\"Cipher size:\", conn.get_cipher_bits())\n",
    "    print(\"Cipher version:\", conn.get_cipher_version())\n",
    "    print(\"Cipher list:\", conn.get_cipher_list())\n",
    "\n",
    "conn, chain = get_connection_chain(\"google.ch\")\n",
    "dump_chain(chain)\n",
    "dump_connection(conn)"
   ]
  },
  {
   "cell_type": "markdown",
   "id": "8ad44ab3-5ef3-48c3-90fa-feef79f7a7f0",
   "metadata": {},
   "source": [
    "## 3. Application\n",
    "\n",
    "Pour la troisième partie, on va enfin aller chercher le certificat de base. Comme on a vu dans la partie 2, le certificat de base n'est pas envoyé par le site. Ca donne du sens, parce qu'on ne fait à priori pas confiance au site. Donc on ne va pas accepter un certificat qui vient de là.\n",
    "\n",
    "Il faut donc avoir une liste de certificats à qui on fait confiance. Cette liste réside sur votre ordinateur, et peut être récupérée avec ´certifi.where()´.\n",
    "\n",
    "Vous pouvez maintenant utiliser la méthode ´get_root_cert´ sur un des certificats précédents pour vous retourner la chaîne de certificats de base.\n",
    "\n",
    "Question:\n",
    "- pourquoi on donne seulement le dernier élément de la liste (`chain[-1]`)?\n",
    "\n",
    "** Parce que les autres éléments sont signés par leur élément précédent, donc on ne pourra pas les\n",
    "vérifier avec les certificats enregistrés localement.**\n",
    "\n",
    "- pourquoi on reçoit deux certificats à la fin?\n",
    "\n",
    "** On reçoit le certificat donné en argument, plus le certificat racine. Comme ça on peut vérifier que c'est bien\n",
    "le certificat racine qui a signé le certificat en question.**"
   ]
  },
  {
   "cell_type": "code",
   "execution_count": null,
   "id": "377d336e",
   "metadata": {
    "button": false,
    "id": "-Fk-3jvpdEcq",
    "new_sheet": false,
    "run_control": {
     "read_only": false
    },
    "tags": []
   },
   "outputs": [],
   "source": [
    "# Série 2 - Exercice 1 - Partie 3\n",
    "\n",
    "def get_root_chain(chain):\n",
    "    store = crypto.X509Store()\n",
    "    store.load_locations(certifi.where())\n",
    "    store_ctx = crypto.X509StoreContext(store, chain[-1])\n",
    "    return store_ctx.get_verified_chain()\n",
    "\n",
    "conn, chain = get_connection_chain(\"google.ch\")\n",
    "dump_chain(get_root_chain(chain))\n"
   ]
  }
 ],
 "metadata": {
  "colab": {
   "collapsed_sections": [],
   "name": "jour_2_série_3_exo_2.ipynb",
   "provenance": []
  },
  "kernelspec": {
   "display_name": "Python 3",
   "language": "python",
   "name": "python3"
  },
  "language_info": {
   "codemirror_mode": {
    "name": "ipython",
    "version": 3
   },
   "file_extension": ".py",
   "mimetype": "text/x-python",
   "name": "python",
   "nbconvert_exporter": "python",
   "pygments_lexer": "ipython3",
   "version": "3.9.6"
  }
 },
 "nbformat": 4,
 "nbformat_minor": 5
}
