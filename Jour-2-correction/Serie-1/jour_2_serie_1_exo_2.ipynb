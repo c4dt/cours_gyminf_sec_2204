{
 "cells": [
  {
   "cell_type": "markdown",
   "id": "02144c61",
   "metadata": {
    "button": false,
    "id": "I9OMTvuiXhkB",
    "new_sheet": false,
    "run_control": {
     "read_only": false
    }
   },
   "source": [
    "# Série 1 - Exercice 2\n",
    "\n",
    "Ce deuxième exercice va se produire dans une partie `code` où vous devez écrire quelques lignes de Python! Mais pas de soucis, on va y aller progressivement.\n",
    "En-dessous de ce block de texte vous trouverez trois blocks pour les trois niveaux de l'exercice.\n",
    "\n",
    "On va se pencher sur la *Differential Privacy* et faire quelques exercices dessus.\n",
    "\n",
    "## 1. Connaissance\n",
    "\n",
    "Dans la première partie vous trouvez une petite fonction qui prend comme entrée si vous êtes un délinquant, et qui sort une réponse protégée par la *Differential Privacy*.\n",
    "si vous faites tourner le code, il vous donnera quelques réponses pour des entrées différentes.\n",
    "\n",
    "Vous pouvez faire tourner le block plusieurs fois, et il devrait vous afficher des résultats différents presque chaque fois.\n",
    "\n",
    "**Réponse - Une fois sur quatre on a le même résultat**"
   ]
  },
  {
   "cell_type": "code",
   "execution_count": null,
   "id": "76409182",
   "metadata": {
    "button": false,
    "colab": {
     "base_uri": "https://localhost:8080/"
    },
    "executionInfo": {
     "elapsed": 861,
     "status": "ok",
     "timestamp": 1620299377323,
     "user": {
      "displayName": "linus gasser",
      "photoUrl": "https://lh3.googleusercontent.com/a-/AOh14GiT9d_hiiZE9FHyx2dphb24xe4f0737HSVlpv54=s64",
      "userId": "10501199511424753986"
     },
     "user_tz": -120
    },
    "id": "1SBtBnYYXhkD",
    "jupyter": {
     "outputs_hidden": false
    },
    "new_sheet": false,
    "outputId": "930682f0-33a4-4e89-9d06-22a1f317191b",
    "run_control": {
     "read_only": false
    }
   },
   "outputs": [],
   "source": [
    "# Série 1 - Exercice 2 - Partie 1\n",
    "import random\n",
    "\n",
    "# Returns True or False for a coin toss. The random.choice method chooses randombly between\n",
    "# the two values. Think of \"True\" as \"Tail\", and \"False\" as \"Head\"\n",
    "def coin() -> bool:\n",
    "    return random.choice([True, False])\n",
    "\n",
    "# Differential Privacy 1 - takes a vairable as input that indicates if the real value is guilty or\n",
    "# not. Then it uses DP to decide whether it should output the real value, or a made-up guiltyness.\n",
    "def dp_1(guilty: bool) -> bool:\n",
    "    if coin():\n",
    "        return guilty\n",
    "    else:\n",
    "        return coin()\n",
    "\n",
    "# A pretty-printing method that shows nicely what is going on.\n",
    "def print_guilty(guilty: bool) -> str:\n",
    "    if guilty:\n",
    "        print(\"Is guilty\")\n",
    "    else:\n",
    "        print(\"Is innocent\")\n",
    "    \n",
    "# Two outputs for a guilty and an innocent person:\n",
    "print_guilty(dp_1(True))\n",
    "print_guilty(dp_1(False))"
   ]
  },
  {
   "cell_type": "markdown",
   "id": "ca654335",
   "metadata": {},
   "source": [
    "## 2. Compréhension\n",
    "\n",
    "### Générateurs aléatoire\n",
    "\n",
    "Pourquoi en lançant le block plusieurs fois vous recevez des résultats différents *presque* chaque fois?\n",
    "\n",
    "### Espérance mathématique\n",
    "\n",
    "On va essayer de trouver l'espérance mathématique de notre function dépendant si on est innocent ou pas. Au lieu de le faire mathémeatiquement, on va le faire par essai et contage, et un peu de bon sens...\n",
    "\n",
    "Dans le block `Exercice 2 - Partie 2`, ajoutez 10 fois la ligne suivante:\n",
    "\n",
    "    print_guilty(dp_1(True))\n",
    "\n",
    "puis lancez le block.\n",
    "\n",
    "- Combien de fois vous trouvez `guilty`, combien de fois `innocent`?\n",
    "  - **7 fois guilty et 3 fois innocent**\n",
    "- Quelle est donc l'espérance mathématique si on met `guilty` à `1`, et `innocent` à `0`?\n",
    "  - **L'espérance pour cet essai est de (7 * 1 + 3 * 0) / 10 = 0.7**\n",
    "- La même question, mais si on met `print_guilty(dp_1(False))`\n",
    "  - **L'espérance pour cet essai est de (2 * 1 + 8 * 0) / 10 = 0.2**\n",
    "  \n",
    "    **En général pour un grand nombre d'essai, en regardant le transparent 32 du jour 2, leçon 1:**\n",
    "    \n",
    "    **Espérance(dp_1(True)) avec P_pile = P_face = 1/2:**\n",
    "    \n",
    "    **Espérance(dp_1(True)) = P_vérité + P_mensonge * P_mensonge_coupable = 1/2 + 1/2 * 1/2 = 0.75**\n",
    "\n",
    "    **Espérance(dp_1(False)) = P_mensonge * P_mensonge_coupable = 1/2 * 1/2 = 0.25**\n",
    "\n",
    "### Correction de la DP\n",
    "\n",
    "- Supposons qu'on a seulement une personne qui est coupable - combien de coupables va-t-on trouver en moyenne?\n",
    "  - **Supposons qu'on prend de nouveau 10 personnes, dont 1 est coupable, on a donc:**\n",
    "\n",
    "    **(0.75 + 9 * 0.25) / 10 = 3**\n",
    "\n",
    "- En connaissant l'espérance mathématique de `dp_1(False)`, comment on peut calculer la valeur probable de personnes coupables?\n",
    "  - **Si on a 'n' personnes dont 'm' apparaissent coupables, il faut calculer:**\n",
    "  \n",
    "    **Coupables probables = total_coupable - coupables_dp = m - n * P_coupable_dp = m - n * 0.25**"
   ]
  },
  {
   "cell_type": "code",
   "execution_count": null,
   "id": "5087cd66",
   "metadata": {
    "button": false,
    "id": "eJHZbx5DXhkE",
    "new_sheet": false,
    "run_control": {
     "read_only": false
    }
   },
   "outputs": [],
   "source": [
    "# Série 1 - Exercice 2 - Partie 2\n",
    "\n",
    "print_guilty(dp_1(True))\n",
    "print_guilty(dp_1(True))\n",
    "print_guilty(dp_1(True))\n",
    "print_guilty(dp_1(True))\n",
    "print_guilty(dp_1(True))\n",
    "print_guilty(dp_1(True))\n",
    "print_guilty(dp_1(True))\n",
    "print_guilty(dp_1(True))\n",
    "print_guilty(dp_1(True))\n",
    "print_guilty(dp_1(True))\n",
    "print(\"  ** inverted\")\n",
    "print_guilty(dp_1(False))\n",
    "print_guilty(dp_1(False))\n",
    "print_guilty(dp_1(False))\n",
    "print_guilty(dp_1(False))\n",
    "print_guilty(dp_1(False))\n",
    "print_guilty(dp_1(False))\n",
    "print_guilty(dp_1(False))\n",
    "print_guilty(dp_1(False))\n",
    "print_guilty(dp_1(False))\n",
    "print_guilty(dp_1(False))"
   ]
  },
  {
   "cell_type": "markdown",
   "id": "894b6ca2",
   "metadata": {},
   "source": [
    "## 3. Application\n",
    "\n",
    "Si vous connaissez un peu la programmation, alors on peut faire les calculs un peu plus correcte.\n",
    "\n",
    "### Créer un nombre élevé de mesures\n",
    "\n",
    "La première méthode `create_measures` va remplacer notre utilisation ligne par ligne d'appel à `dp_1`.\n",
    "Le paramètre `p_guilty` indique la probabilité entre 0 et 1 qu'un élément est coupable.\n",
    "\n",
    "### Calculer le nombre de personnes coupables\n",
    "\n",
    "La deuxième méthode `calculate_guilty` prend la sortie de `create_measures` pour calculer le nombre\n",
    "probable de personnes coupables.\n",
    "Il faudra d'abord compter le nombre de `True` dans l'entré, puis le mettre en relation avec le nombre\n",
    "total de réponses.\n",
    "Après il faut corriger par rapport à l'érreur introduite par la DP."
   ]
  },
  {
   "cell_type": "markdown",
   "id": "0e4ec957",
   "metadata": {},
   "source": [
    "# Corriger la DP\n",
    "\n",
    "## 1 personne coupable -> en moyenne\n",
    "- coupable: Espérance_coupable = 0.5 + 0.5 * 0.5 = 0.75\n",
    "- innocents: Espérance_coupable = 9 * 0.5 * 0.5 = 2.25\n",
    "- total: 0.75 + 2.25 = 3 personnes coupables en moyenne\n",
    "\n",
    "## Corriger le résultat\n",
    "\n",
    "Sur `n` résultats, il y a en moyenne \n",
    "- `n/4` qui sont aléatoirement coupable\n",
    "- `n/4` qui sont aléatoirement innocent\n",
    "\n",
    "Donc si on a `total_coupable` et `total_innocent` de cas, on peut déduire les cas aléatoire en calculant:\n",
    "- `vraiment_coupable = total_coupable - n / 4`\n",
    "- `vraiment_innocent = total_innocent - n / 4`\n",
    "\n",
    "Et donc pour calculer la distribution des personnes coupables, on peut calculer:\n",
    "\n",
    "```\n",
    "              vraiment_coupable - n / 4\n",
    "P(coupable) = -------------------------\n",
    "                        n / 2\n",
    "```"
   ]
  },
  {
   "cell_type": "code",
   "execution_count": null,
   "id": "42b82145",
   "metadata": {
    "button": false,
    "id": "1JObxqoxXhkE",
    "jupyter": {
     "outputs_hidden": false
    },
    "new_sheet": false,
    "outputId": "6f3516f3-8c0b-44c9-eecb-baf5638bc5c0",
    "run_control": {
     "read_only": false
    }
   },
   "outputs": [],
   "source": [
    "# Série 1 - Exercice 2 - Partie 3\n",
    "\n",
    "# This method returns a number of throws where each throw is randomly chosen to be\n",
    "# from a guilty person with probability p_guilty.\n",
    "# The return value should be an array of booleans.\n",
    "def create_measures(throws: int, p_guilty: float) -> [bool]:\n",
    "    dp = []\n",
    "    for choice in random.choices([True, False], [p_guilty, 1-p_guilty], k=throws):\n",
    "        dp.append(dp_1(choice))\n",
    "        \n",
    "    return dp\n",
    "\n",
    "# Returns the most probable number of guilty persons given the array of results.\n",
    "def calculate_guilty(results: [bool]) -> float:\n",
    "    total = len(results)\n",
    "    total_guilty = len(list(filter(lambda x: x, results)))\n",
    "    total_innocent = len(list(filter(lambda x: not x, results)))\n",
    "    return (total_guilty - total / 4) / (total / 2)\n",
    "\n",
    "# This should print a number close to 0.1 * 100 = 10 guilty persons.\n",
    "print(f'The percentage of guilty persons are: {calculate_guilty(create_measures(10000, 0.1))*100}')"
   ]
  }
 ],
 "metadata": {
  "colab": {
   "collapsed_sections": [],
   "name": "jour_2_série_1_exo_2.ipynb",
   "provenance": []
  },
  "kernelspec": {
   "display_name": "Python 3",
   "language": "python",
   "name": "python3"
  },
  "language_info": {
   "codemirror_mode": {
    "name": "ipython",
    "version": 3
   },
   "file_extension": ".py",
   "mimetype": "text/x-python",
   "name": "python",
   "nbconvert_exporter": "python",
   "pygments_lexer": "ipython3",
   "version": "3.9.6"
  }
 },
 "nbformat": 4,
 "nbformat_minor": 5
}
