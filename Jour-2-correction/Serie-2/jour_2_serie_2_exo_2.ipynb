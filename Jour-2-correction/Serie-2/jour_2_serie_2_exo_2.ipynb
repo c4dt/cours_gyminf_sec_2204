{
 "cells": [
  {
   "cell_type": "markdown",
   "id": "5dd2fd23",
   "metadata": {
    "button": false,
    "id": "pCYLwa2lXhj-",
    "new_sheet": false,
    "run_control": {
     "read_only": false
    }
   },
   "source": [
    "# Série 2 - Exercice 2\n",
    "\n",
    "On va maintenant s'intéresser à une vraie fonction de hachage, le `sha-256`. Cette fonction a été testé, a été attaqué en vain, et est utilisé partout dans le monde. On va donc considérer que c'est une fonction de hachage cryptographique.\n",
    "\n",
    "Néanmoins, même si on prend une chose quasi-parfaite, en l'utilisant d'une manière inadéquate, on peut quand même se tromper.\n",
    "\n",
    "Pour cette exercice, on va supposer qu'on veut anonymiser une partie d'une base de données afin de pouvoir l'utiliser pour la recherche.\n",
    "\n",
    "## 1. Connaissance\n",
    "\n",
    "Si vous faites tourner le block pour la partie 1, vous verrez que le hachage `sha256` retourne une valeur beaucoup plus longue que notre fonction simple. En plus, la valeur retournée par le `sha256` a une longueure constante.\n",
    "\n",
    "Une autre chose intéressante est l'utilisation de la fonction `sha256`. Ligne par ligne, la chose suivante se passe:\n",
    "\n",
    "- `sha = sha256()` crée un objet qui permet d'utiliser le hachage\n",
    "- `sha.update(phrase.encode())` fournit la phrase à notre nouvel objet. Une phrase en informatique peut être écrite de différente manière, alors ici on doit spécifier qu'on suppose la plus simple avec `encode()`. Un autre point intéressant est le fait que le `update` peut être appelé plusieurs fois. Mais on ne va pas le faire ici.\n",
    "- `sha.hexdigest()` finalise le hachage et fournit le résultat final dans un joli texte [hexadécimal](https://fr.wikipedia.org/wiki/Syst%C3%A8me_hexad%C3%A9cimal)\n",
    "\n",
    "Changez les phrases et prenez soin de bien vérifier qu'un tout petit changement de la phrase change complètement le résultat du hachage."
   ]
  },
  {
   "cell_type": "code",
   "execution_count": null,
   "id": "a8e4de6f",
   "metadata": {
    "button": false,
    "colab": {
     "base_uri": "https://localhost:8080/"
    },
    "executionInfo": {
     "elapsed": 488,
     "status": "ok",
     "timestamp": 1620313257622,
     "user": {
      "displayName": "linus gasser",
      "photoUrl": "https://lh3.googleusercontent.com/a-/AOh14GiT9d_hiiZE9FHyx2dphb24xe4f0737HSVlpv54=s64",
      "userId": "10501199511424753986"
     },
     "user_tz": -120
    },
    "id": "MLMv46WTF9bE",
    "jupyter": {
     "outputs_hidden": false
    },
    "new_sheet": false,
    "outputId": "d63df9fc-5096-41c2-882c-a70ce06a4f33",
    "run_control": {
     "read_only": false
    }
   },
   "outputs": [],
   "source": [
    "# Série 2 - Exercice 2 - Partie 1\n",
    "\n",
    "from hashlib import sha256\n",
    "\n",
    "def sha256_str(phrase: str) -> str:\n",
    "  sha = sha256()\n",
    "  sha.update(phrase.encode())\n",
    "  return sha.hexdigest()\n",
    "\n",
    "def print_sha256(phrase: str) -> str:\n",
    "  print('sha256(\"{}\") is: {}'.format(phrase, sha256_str(phrase)))\n",
    "\n",
    "print_sha256(\"Jean Dupont\")\n",
    "print_sha256(\"3000 Bern\")"
   ]
  },
  {
   "cell_type": "markdown",
   "id": "8d4d2d3f",
   "metadata": {},
   "source": [
    "## 2. Compréhension\n",
    "\n",
    "Maintenant on va anonymiser le tableau suivant:\n",
    "\n",
    "| Nom complet | Code postal | Salaire | # d'enfants |\n",
    "| --- | --- | --- | --- |\n",
    "| Tyson Beauchamps | 8353 | 100'000 | 2 |\n",
    "| Faustin Rouleau | 8353 | 60'000 | 3 |\n",
    "| Harbin Angélil | 9402 | 120'000 | 0 |\n",
    "| Afrodille Paulet | 8353 | 110'000 | 1 |\n",
    "| Yolande Tougas | 9402 | 80'000 | 0 |\n",
    "| Germaine Lejeune |9402 | 100'000 | 1 |\n",
    "\n",
    "### 2.1 Anonymisation des noms\n",
    "\n",
    "Utilisez la fonction `print_sha256` pour imprimer les sha256 des noms des personnes:\n",
    "- est-ce que vous voyez une régularité dans la sortie?\n",
    "  - **Non - le sha256 apparaît comme une fonction aléatoire**\n",
    "- pourquoi? ou pourquoi pas?\n",
    "- est-ce que c'est une bonne manière d'anonymisation?\n",
    "  - **Ca dépend de la taille de la source. Si on a peu de valeurs au départ, on peut facilement tous les essayer**\n",
    "- dans quel cas est-ce que c'est util de faire ça?\n",
    "  - **Si on veut comparer des valeurs de plusieurs entrées ou entre différentes tableaux**\n",
    "\n",
    "### 2.2 Anonymisation des codes postaux\n",
    "\n",
    "Disons qu'on veut anonymiser le tableau par rapport au code postal:\n",
    "- remplacez les codes postaux par leur sha256\n",
    "- dans quel cas est-ce que c'est utile de faire ça?\n",
    "  - **Pour comparer des codes postaux**\n",
    "- est-ce que c'est anonyme?\n",
    "  - **Non, vu qu'on peut retrouver les codes postaux.**\n",
    "\n",
    "    **On pourrait ajouter la même valeur grande aléatoire de 256 bits à tous les codes postaux.\n",
    "    Comme ça on pourrait toujours comparer les codes postaux, et aussi longtemps que cette grande\n",
    "    valeur n'est pas divulgué, on ne peut pas trouver les codes postaux**\n",
    "\n",
    "### 2.3 Faire deux fonctions\n",
    "\n",
    "Pour clôre, créez deux fonctions, une pour 2.1, et une pour 2.2. \n",
    "- Pour 2.1, elle prend en argument le tableau, et retourne un nouveau tableau avec les noms hachés.\n",
    "- Pour 2.2, elle retourne le tableau avec les codes postaux hachés."
   ]
  },
  {
   "cell_type": "code",
   "execution_count": null,
   "id": "0b56f3c4",
   "metadata": {
    "button": false,
    "colab": {
     "base_uri": "https://localhost:8080/"
    },
    "executionInfo": {
     "elapsed": 517,
     "status": "ok",
     "timestamp": 1620313146439,
     "user": {
      "displayName": "linus gasser",
      "photoUrl": "https://lh3.googleusercontent.com/a-/AOh14GiT9d_hiiZE9FHyx2dphb24xe4f0737HSVlpv54=s64",
      "userId": "10501199511424753986"
     },
     "user_tz": -120
    },
    "id": "CYxroBl8HBsc",
    "jupyter": {
     "outputs_hidden": false
    },
    "new_sheet": false,
    "outputId": "06af15bd-69ec-4532-b9c6-899fb371227a",
    "run_control": {
     "read_only": false
    }
   },
   "outputs": [],
   "source": [
    "# Série 2 - Exercice 2 - Partie 2\n",
    "\n",
    "tableau = [[\"Tyson Beauchamps\" ,8353 , 100000, 2],\n",
    "[ \"Faustin Rouleau\", 3961, 60000, 3 ],\n",
    "[ \"Harbin Angélil\", 7414, 120000, 0 ],\n",
    "[ \"Afrodille Paulet\", 1726, 110000, 1 ],\n",
    "[ \"Yolande Tougas\", 9402, 80000, 0 ],\n",
    "[ \"Germaine Lejeune\", 9402, 100000, 1 ]]\n",
    "\n",
    "print_sha256(tableau[0][0])\n",
    "\n",
    "## 2.1\n",
    "print_sha256(tableau[0][0])\n",
    "print_sha256(tableau[1][0])\n",
    "print_sha256(tableau[2][0])\n",
    "print_sha256(tableau[3][0])\n",
    "print_sha256(tableau[4][0])\n",
    "print_sha256(tableau[5][0])\n",
    "\n",
    "## 2.2\n",
    "import copy;\n",
    "\n",
    "def print_table(table):\n",
    "    for i in range(len(table)):\n",
    "        print(f\"table[{i}] = {table[i]}\")\n",
    "\n",
    "tableau_nouveau = copy.deepcopy(tableau)\n",
    "tableau_nouveau[0][1] = sha256_str(str(tableau[0][1]))\n",
    "tableau_nouveau[1][1] = sha256_str(str(tableau[1][1]))\n",
    "tableau_nouveau[2][1] = sha256_str(str(tableau[2][1]))\n",
    "tableau_nouveau[3][1] = sha256_str(str(tableau[3][1]))\n",
    "tableau_nouveau[4][1] = sha256_str(str(tableau[4][1]))\n",
    "tableau_nouveau[5][1] = sha256_str(str(tableau[5][1]))\n",
    "print(\"  ** 2.2\")\n",
    "print_table(tableau_nouveau)\n",
    "\n",
    "## 2.3\n",
    "import random, string;\n",
    "\n",
    "def hash_names(table):\n",
    "    table_new = copy.deepcopy(table)\n",
    "    for i in range(len(table)):\n",
    "        table_new[i][0] = sha256_str(table[i][0])\n",
    "        \n",
    "    return table\n",
    "\n",
    "def hash_postal(table):\n",
    "    table_new = copy.deepcopy(table)\n",
    "    for i in range(len(table)):\n",
    "        table_new[i][1] = sha256_str(str(table[i][1]))\n",
    "        \n",
    "    return table_new\n",
    "\n",
    "print(\"  ** 2.3\")\n",
    "print_table(hash_names(tableau))\n",
    "print_table(hash_postal(tableau))"
   ]
  },
  {
   "cell_type": "markdown",
   "id": "6ebb704f",
   "metadata": {},
   "source": [
    "## 3. Application\n",
    "\n",
    "On va maintenant dé-anonymiser le tableau de la partie 2.2. Comment pouvez-vous procéder\n",
    "pour récupérer les codes postaux?\n",
    "\n",
    "Ecrivez une fonction qui prend un hash et qui retourne un code postal, et une deuxième fonction qui prend\n",
    "le tableau anonymisé dans la partie 2.2, et qui retourne le tableau déanonymisé."
   ]
  },
  {
   "cell_type": "code",
   "execution_count": null,
   "id": "3b008221",
   "metadata": {
    "button": false,
    "colab": {
     "base_uri": "https://localhost:8080/"
    },
    "executionInfo": {
     "elapsed": 494,
     "status": "ok",
     "timestamp": 1620313273545,
     "user": {
      "displayName": "linus gasser",
      "photoUrl": "https://lh3.googleusercontent.com/a-/AOh14GiT9d_hiiZE9FHyx2dphb24xe4f0737HSVlpv54=s64",
      "userId": "10501199511424753986"
     },
     "user_tz": -120
    },
    "id": "DPymZDH0JhxV",
    "jupyter": {
     "outputs_hidden": false
    },
    "new_sheet": false,
    "outputId": "5325ce04-837e-4173-b626-d9a89f1bfb12",
    "run_control": {
     "read_only": false
    }
   },
   "outputs": [],
   "source": [
    "# Série 2 - Exercice 2 - Partie 3\n",
    "\n",
    "def find_cp(hash: str) -> int:\n",
    "    for i in range(1000, 10000):\n",
    "        if sha256_str(str(i)) == hash:\n",
    "            return i\n",
    "        \n",
    "    raise NameError(\"Did not found postal code\")\n",
    "    \n",
    "def deanonymize(table):\n",
    "    table_new = copy.deepcopy(table)\n",
    "    for i in range(len(table)):\n",
    "        table_new[i][1] = find_cp(table[i][1])\n",
    "        \n",
    "    return table_new\n",
    "\n",
    "print_table(deanonymize(hash_postal(tableau)))\n"
   ]
  }
 ],
 "metadata": {
  "colab": {
   "collapsed_sections": [],
   "name": "jour_2_série_2_exo_2.ipynb",
   "provenance": [
    {
     "file_id": "1M0njCvQjyYFIuPN-M4lY0aZEA1Gn-tdE",
     "timestamp": 1620311190684
    }
   ]
  },
  "kernelspec": {
   "display_name": "Python 3",
   "language": "python",
   "name": "python3"
  },
  "language_info": {
   "codemirror_mode": {
    "name": "ipython",
    "version": 3
   },
   "file_extension": ".py",
   "mimetype": "text/x-python",
   "name": "python",
   "nbconvert_exporter": "python",
   "pygments_lexer": "ipython3",
   "version": "3.9.6"
  }
 },
 "nbformat": 4,
 "nbformat_minor": 5
}
