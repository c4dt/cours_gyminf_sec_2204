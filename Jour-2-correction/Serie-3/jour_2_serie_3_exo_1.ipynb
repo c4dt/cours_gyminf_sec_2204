{
 "cells": [
  {
   "cell_type": "markdown",
   "id": "c8bfd3b0",
   "metadata": {
    "button": false,
    "id": "OJkcQuONXhj4",
    "new_sheet": false,
    "run_control": {
     "read_only": false
    }
   },
   "source": [
    "# Série 3\n",
    "\n",
    "Dans cette série on verra quelques fonctions de chiffrement. On va commencer avec les plus simples pour passer aux chiffrements utilisés de nos jours."
   ]
  },
  {
   "cell_type": "markdown",
   "id": "23c67c1d",
   "metadata": {
    "button": false,
    "id": "xc0a_EOTck4x",
    "new_sheet": false,
    "run_control": {
     "read_only": false
    }
   },
   "source": [
    "# Exercice 1 - PAS FAIT PENDANT LE COURS - PAS DANS L'EXAMEN!\n",
    "\n",
    "On va commencer très simple avec une fonction de substitution et on va l'utiliser pour faire des dechiffrements simples.\n",
    "\n",
    "## 1. Connaissance\n",
    "\n",
    "Cette première partie définit une fonction qui fait simplement la substitution linéaire dans l'alphabet. Elle ignore toutes les lettres autres que a-z minuscules et majuscules.\n",
    "\n",
    "En tout cas vous voyez que le déchiffrement se fait simplement en passant la phrase chiffré avec l'index négatif. Si vous y pensez, ceci fait du sens, car on inverse le cercle de substitution."
   ]
  },
  {
   "cell_type": "code",
   "execution_count": null,
   "id": "a9914af1",
   "metadata": {
    "button": false,
    "colab": {
     "base_uri": "https://localhost:8080/"
    },
    "executionInfo": {
     "elapsed": 2341,
     "status": "ok",
     "timestamp": 1620318550871,
     "user": {
      "displayName": "linus gasser",
      "photoUrl": "https://lh3.googleusercontent.com/a-/AOh14GiT9d_hiiZE9FHyx2dphb24xe4f0737HSVlpv54=s64",
      "userId": "10501199511424753986"
     },
     "user_tz": -120
    },
    "id": "4qOznnPDckVh",
    "jupyter": {
     "outputs_hidden": false
    },
    "new_sheet": false,
    "outputId": "a1bbde63-5e64-4ab5-e08c-40f6a1c916b1",
    "run_control": {
     "read_only": false
    }
   },
   "outputs": [],
   "source": [
    "# Série 3 - Exercice 1 - Partie 1\n",
    "\n",
    "# Takes a phrase and a rotation-indicator, then returns the new phrase.\n",
    "# All characters outside of [A-Za-z] are ignored.\n",
    "def substitution(phrase: str, shift: int) -> str:\n",
    "  temp = list(phrase)\n",
    "  for i, c in enumerate(temp):\n",
    "    if c.isalpha():\n",
    "      char_case = ord(c) & 0xe0\n",
    "      char_index = ord(c) & 0x1f\n",
    "      char_new_index = ( char_index + shift - 1 ) % 26 + 1\n",
    "      temp[i] = chr(char_case + char_new_index)\n",
    "\n",
    "  return ''.join(temp)\n",
    "\n",
    "print(substitution(\"Don't panic\", 2))\n",
    "print(substitution(\"Fqp'v rcpke\", -2))"
   ]
  },
  {
   "cell_type": "markdown",
   "id": "18150b36",
   "metadata": {},
   "source": [
    "## 2. Compréhension\n",
    "\n",
    "Je vous laisse découvrir la phrase secrète qui ne donne pas le sens de la vie, mais le message tout aussi important que le créateur à laissé à sa création.\n",
    "\n",
    "Pour trouver le message, vous devez trouver la valeur qui vous déchiffre (ou *décode* dans cet example...) la phrase.\n",
    "\n",
    "Une fois que vous avez trouvé la valeur `x`, vous pouvez essayer la valeur `26 + x`, qui devrait donner le même résultat. Est-ce que vous arrivez à comprendre pourquoi?\n",
    "\n",
    "Un cas spécial est la substitution avec un `shift` de 13. Dans l'internet ceci est appelé `ROT-13`, et c'est souvent utilisé par des vieilles personnes. Encore plus vieilles que moi...\n",
    "\n",
    "Essayez de déchiffrer les messages suivant:\n",
    "\n",
    "    Wsvvc jsv xli mrgsrzirmirgi\n",
    "    Jung vf 6 gvzrf 7?"
   ]
  },
  {
   "cell_type": "code",
   "execution_count": null,
   "id": "1b8759bb",
   "metadata": {
    "button": false,
    "colab": {
     "base_uri": "https://localhost:8080/"
    },
    "executionInfo": {
     "elapsed": 536,
     "status": "ok",
     "timestamp": 1620318909472,
     "user": {
      "displayName": "linus gasser",
      "photoUrl": "https://lh3.googleusercontent.com/a-/AOh14GiT9d_hiiZE9FHyx2dphb24xe4f0737HSVlpv54=s64",
      "userId": "10501199511424753986"
     },
     "user_tz": -120
    },
    "id": "9HYfk1lTc7Hp",
    "jupyter": {
     "outputs_hidden": false
    },
    "new_sheet": false,
    "outputId": "9f305a42-3444-4976-8aba-70ae21f758f2",
    "run_control": {
     "read_only": false
    }
   },
   "outputs": [],
   "source": [
    "# Série 3 - Exercice 1 - Partie 2\n",
    "\n",
    "print(substitution(\"Wsvvc jsv xli mrgsrzirmirgi\", 22))\n",
    "print(substitution(\"Jung vf 6 gvzrf 7?\", 13))"
   ]
  },
  {
   "cell_type": "markdown",
   "id": "a44f5e02",
   "metadata": {},
   "source": [
    "## 3. Application\n",
    "\n",
    "Pour le décryptage on a vu qu'on doit passer par les 26 valeurs possibles. Vous pouvez écrire la fonction `decrypt` qui prend une phrase et une liste de lettres, suivant la fréquence d'apparition dans la langue cible.\n",
    "\n",
    "Testez-le avec différentes phrases que vous chiffrez avec la fonction `substitution`. A partir de quelle longueur de phrase ça marche bien?"
   ]
  },
  {
   "cell_type": "code",
   "execution_count": null,
   "id": "b30eb2a0",
   "metadata": {
    "button": false,
    "id": "-Fk-3jvpdEcq",
    "new_sheet": false,
    "run_control": {
     "read_only": false
    },
    "tags": []
   },
   "outputs": [],
   "source": [
    "# Série 3 - Exercice 1 - Partie 3\n",
    "\n",
    "# Decrypt takes an encrypted string where the original phrase has the letters\n",
    "# that follow the position in frequency: the first position gives the most\n",
    "# frequent letter.\n",
    "def decrypt(encrypted: str, frequency: str) -> str:\n",
    "  pass"
   ]
  }
 ],
 "metadata": {
  "colab": {
   "collapsed_sections": [],
   "name": "jour_2_série_3_exo_1.ipynb",
   "provenance": []
  },
  "kernelspec": {
   "display_name": "Python 3",
   "language": "python",
   "name": "python3"
  },
  "language_info": {
   "codemirror_mode": {
    "name": "ipython",
    "version": 3
   },
   "file_extension": ".py",
   "mimetype": "text/x-python",
   "name": "python",
   "nbconvert_exporter": "python",
   "pygments_lexer": "ipython3",
   "version": "3.9.6"
  }
 },
 "nbformat": 4,
 "nbformat_minor": 5
}
